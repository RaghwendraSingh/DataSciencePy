{
 "cells": [
  {
   "cell_type": "code",
   "execution_count": 2,
   "metadata": {
    "collapsed": true
   },
   "outputs": [],
   "source": [
    "import pandas as pd\n",
    "import numpy as np\n",
    "import matplotlib.pyplot as plt"
   ]
  },
  {
   "cell_type": "code",
   "execution_count": 3,
   "metadata": {
    "collapsed": true
   },
   "outputs": [],
   "source": [
    "def dataset(source, sheet, country='United States'):\n",
    "    \"\"\"\n",
    "    helper function to fetch filtered data for a country from a sheet of an excel file\n",
    "    \"\"\"\n",
    "    xls = pd.ExcelFile(source)\n",
    "    all_data = xls.parse(sheet)\n",
    "    return all_data[all_data[all_data.columns[0]] == country]"
   ]
  },
  {
   "cell_type": "code",
   "execution_count": 4,
   "metadata": {
    "collapsed": true
   },
   "outputs": [],
   "source": [
    "def timeseries(dataset, column):\n",
    "    \"\"\"\n",
    "    function to extract a column from a pandas.DataFrame\n",
    "    and return another pandas.DataFrame of year and that column\n",
    "    \"\"\"\n",
    "    return pd.DataFrame([dataset[dataset.columns[1]], dataset[column]]).T "
   ]
  },
  {
   "cell_type": "code",
   "execution_count": 5,
   "metadata": {
    "collapsed": false
   },
   "outputs": [
    {
     "ename": "IndentationError",
     "evalue": "unindent does not match any outer indentation level (<ipython-input-5-46e46f6d3df3>, line 6)",
     "output_type": "error",
     "traceback": [
      "\u001b[1;36m  File \u001b[1;32m\"<ipython-input-5-46e46f6d3df3>\"\u001b[1;36m, line \u001b[1;32m6\u001b[0m\n\u001b[1;33m    return pd.DataFrame([dataset[dataset.columns[1]], dataset[column]/dataset[column].mean()]).T\u001b[0m\n\u001b[1;37m                                                                                                 ^\u001b[0m\n\u001b[1;31mIndentationError\u001b[0m\u001b[1;31m:\u001b[0m unindent does not match any outer indentation level\n"
     ]
    }
   ],
   "source": [
    "def norm_timeseries(dataset, column):\n",
    "     \"\"\"\n",
    "    function to extract a column from a pandas.DataFrame\n",
    "    and return normalized pandas.DataFrame of year and that column by dividing the column with its mean\n",
    "    \"\"\"\n",
    "    return pd.DataFrame([dataset[dataset.columns[1]], dataset[column]/dataset[column].mean()]).T "
   ]
  },
  {
   "cell_type": "code",
   "execution_count": 6,
   "metadata": {
    "collapsed": true
   },
   "outputs": [],
   "source": [
    "def linechart(series, **kwargs):\n",
    "    \"\"\"\n",
    "    A helper function to plot lines from a list of timeseries and return the plotted figure\n",
    "    \"\"\"\n",
    "    fig = plt.figure()\n",
    "    ax = plt.subplot(111)\n",
    "    \n",
    "    for line in series:\n",
    "        yval = line[line.columns[0]]\n",
    "        xval = line[line.columns[1]]\n",
    "        ax.plot(yval, xval)\n",
    "    \n",
    "    if 'ylabel' in kwargs:\n",
    "        ax.set_ylabel(kwargs['ylabel'])\n",
    "    if 'title' in kwargs:\n",
    "        plt.title(kwargs['title'])\n",
    "    if 'labels' in kwargs:\n",
    "        ax.legend(kwargs['labels'])\n",
    "    \n",
    "    return fig"
   ]
  },
  {
   "cell_type": "code",
   "execution_count": 7,
   "metadata": {
    "collapsed": true
   },
   "outputs": [],
   "source": [
    "def percent_income_share(source, sheet):\n",
    "    \"\"\"\n",
    "    helper function to display the percent income share of the world highest income dataset for United States\n",
    "    \"\"\"\n",
    "    columns = (1010110101, 1010110201, 1010110301, 1010110401, 1010110501)\n",
    "    label = (\n",
    "        \"Top 10% income share\",\n",
    "        \"Top 5% income share\",\n",
    "        \"Top 1% income share\",\n",
    "        \"Top 0.5% income share\",\n",
    "        \"Top 0.1% income share\",\n",
    "    )\n",
    "    #print label\n",
    "    source = dataset(source, sheet)\n",
    "    #plt = timeseries(source, columns)\n",
    "    #print plt\n",
    "    return linechart([timeseries(source, col) for col in columns],\n",
    "                     \n",
    "                     labels=label,\n",
    "                     title=\"U.S. Percentage Income Share\",\n",
    "                     ylabel=\"Percentage\")"
   ]
  },
  {
   "cell_type": "code",
   "execution_count": 8,
   "metadata": {
    "collapsed": true
   },
   "outputs": [],
   "source": [
    "def norm_percent_income_share(source, sheet):\n",
    "    \"\"\"\n",
    "    helper function to plot the normalized percent income share\n",
    "    of the world highest income dataset for United States\n",
    "    \"\"\"\n",
    "    columns = (1010110101, 1010110201, 1010110301, 1010110401, 1010110501)\n",
    "    label = (\n",
    "        \"Top 10% income share\",\n",
    "        \"Top 5% income share\",\n",
    "        \"Top 1% income share\",\n",
    "        \"Top 0.5% income share\",\n",
    "        \"Top 0.1% income share\",\n",
    "    )\n",
    "    #print label\n",
    "    source = dataset(source, sheet)\n",
    "    #plt = norm_timeseries(source, columns)\n",
    "    #print plt\n",
    "    return linechart([norm_timeseries(source, col) for col in columns],\n",
    "                     labels=label,\n",
    "                     title=\"U.S. Percentage Income Share\",\n",
    "                     ylabel=\"Percentage\")"
   ]
  },
  {
   "cell_type": "code",
   "execution_count": 9,
   "metadata": {
    "collapsed": true
   },
   "outputs": [],
   "source": [
    "def delta(first, second):\n",
    "    \"\"\"\n",
    "    helper function to return difference of the two pandas.DataFrame\n",
    "    \"\"\"\n",
    "    years = first[first.columns[0]]\n",
    "    return pd.DataFrame([years, first[first.columns[1]] - second[second.columns[1]]]).T"
   ]
  },
  {
   "cell_type": "code",
   "execution_count": 10,
   "metadata": {
    "collapsed": false
   },
   "outputs": [],
   "source": [
    "def capital_gains_lift(source, sheet):\n",
    "    \"\"\"\n",
    "    helper function to plot the capital gains lift of the worlds highest income dataset for United States \n",
    "    \"\"\"\n",
    "    columns = (\n",
    "        (1010210101, 1010110101),\n",
    "        (1010210201, 1010110201),\n",
    "        (1010210301, 1010110301),\n",
    "        (1010210401, 1010110401),\n",
    "        (1010210501, 1010110501),\n",
    "        (1010210601, 1010110601),\n",
    "    )\n",
    "    labels = (\n",
    "        (\"Top 10% income share-including capital gains\", \"Top 10% income share\"),\n",
    "        (\"Top 5% income share-including capital gains\", \"Top 5% income share\"),\n",
    "        (\"Top 1% income share-including capital gains\", \"Top 1% income share\"),\n",
    "        (\"Top 0.5% income share-including capital gains\", \"Top 0.5% income share\"),\n",
    "        (\"Top 0.1% income share-including capital gains\", \"Top 0.1% income share\"),\n",
    "        (\"Top 0.05% income share-including capital gains\",\n",
    "        \"Top 0.05% income share\"),\n",
    "    )\n",
    "    source = dataset(source, sheet)\n",
    "    series = [delta(timeseries(source, a), timeseries(source, b)) for a,b in columns]\n",
    "    \n",
    "    return linechart(series,labels=list(col[1] for col in\n",
    "        labels), title=\"U.S. Capital Gains Income Lift\",\n",
    "        ylabel=\"Percentage Difference\")\n"
   ]
  },
  {
   "cell_type": "code",
   "execution_count": 11,
   "metadata": {
    "collapsed": true
   },
   "outputs": [],
   "source": [
    "def average_incomes(source, sheet):\n",
    "    \"\"\"\n",
    "    helper function to plot the average incomes from worlds highest income dataset for United State\n",
    "    \"\"\"\n",
    "    source = dataset(source, sheet)\n",
    "    \n",
    "    columns = (\n",
    "        1040210101, 1040210201, 1040210301, 1040210401, 1040210501, 1040210601,\n",
    "    )\n",
    "    labels = (\n",
    "        \"Top 10% average income\",\n",
    "        \"Top 5% average income\",\n",
    "        \"Top 1% average income\",\n",
    "        \"Top 0.5% average income\",\n",
    "        \"Top 0.1% average income\",\n",
    "        \"Top 0.05% average income\",\n",
    "    )\n",
    "    return linechart([timeseries(source, col) for col in columns],\n",
    "                    labels = labels, title=\"U.S. Average Income\",\n",
    "                    ylabel=\"2008 US Dollars\")"
   ]
  },
  {
   "cell_type": "code",
   "execution_count": 12,
   "metadata": {
    "collapsed": true
   },
   "outputs": [],
   "source": [
    "def average_top_income_lift(source, sheet):\n",
    "    \"\"\"\n",
    "    helper function to plot the average top incomes from worlds highest income dataset for United State\n",
    "    \"\"\"\n",
    "    columns = (\n",
    "        (1040210101,1040210501),\n",
    "        (1040210201,1040210501),\n",
    "        (1040210301,1040210501),\n",
    "        (1040210401,1040210501),\n",
    "        (1040210501,1040210501),\n",
    "    )\n",
    "    labels = (\n",
    "        (\"Top 10% average income\", \"Top 0.1% average income\"),\n",
    "        (\"Top 5% average income\", \"Top 0.1% average income\"),\n",
    "        (\"Top 1% average income\", \"Top 0.1% average income\"),\n",
    "        (\"Top 0.5% average income\", \"Top 0.1% average income\"),\n",
    "        (\"Top 0.1% average income\", \"Top 0.1% average income\"),\n",
    "    )\n",
    "    source = dataset(source, sheet)\n",
    "    \n",
    "    series = [delta(timeseries(source, a), timeseries(source, b)) for a,b in columns]\n",
    "    \n",
    "    return linechart(series,\n",
    "                     labels=list(col[0] for col in labels),\n",
    "                     title=\"U.S. Income Disparity\",\n",
    "                     ylabel=\"2008 US Dollars\")"
   ]
  },
  {
   "cell_type": "code",
   "execution_count": 19,
   "metadata": {
    "collapsed": false
   },
   "outputs": [],
   "source": [
    "percent_income_share('/home/spark/Downloads/reP.xlsx', 'Series-layout A')\n",
    "plt.show()"
   ]
  },
  {
   "cell_type": "code",
   "execution_count": 18,
   "metadata": {
    "collapsed": false
   },
   "outputs": [],
   "source": [
    "norm_percent_income_share('/home/spark/Downloads/reP.xlsx', 'Series-layout A')\n",
    "plt.show()"
   ]
  },
  {
   "cell_type": "code",
   "execution_count": 15,
   "metadata": {
    "collapsed": false
   },
   "outputs": [],
   "source": [
    "capital_gains_lift('/home/spark/Downloads/reP.xlsx', 'Series-layout A')\n",
    "plt.show()"
   ]
  },
  {
   "cell_type": "code",
   "execution_count": 16,
   "metadata": {
    "collapsed": true
   },
   "outputs": [],
   "source": [
    "average_incomes('/home/spark/Downloads/reP.xlsx', 'Series-layout A')\n",
    "plt.show()"
   ]
  },
  {
   "cell_type": "code",
   "execution_count": 28,
   "metadata": {
    "collapsed": true
   },
   "outputs": [],
   "source": [
    "average_top_income_lift('/home/spark/Downloads/reP.xlsx', 'Series-layout A')\n",
    "plt.show()"
   ]
  },
  {
   "cell_type": "code",
   "execution_count": null,
   "metadata": {
    "collapsed": true
   },
   "outputs": [],
   "source": []
  }
 ],
 "metadata": {
  "kernelspec": {
   "display_name": "Python 2",
   "language": "python",
   "name": "python2"
  },
  "language_info": {
   "codemirror_mode": {
    "name": "ipython",
    "version": 2
   },
   "file_extension": ".py",
   "mimetype": "text/x-python",
   "name": "python",
   "nbconvert_exporter": "python",
   "pygments_lexer": "ipython2",
   "version": "2.7.11"
  }
 },
 "nbformat": 4,
 "nbformat_minor": 0
}
